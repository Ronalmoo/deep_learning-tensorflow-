{
 "cells": [
  {
   "cell_type": "code",
   "execution_count": 42,
   "metadata": {},
   "outputs": [],
   "source": [
    "import tensorflow as tf\n",
    "import numpy as np\n",
    "import matplotlib.pyplot as plt\n",
    "import pprint as pp\n",
    "import random\n",
    "tf.logging.set_verbosity(tf.logging.ERROR)  # warning 출력 방지"
   ]
  },
  {
   "cell_type": "code",
   "execution_count": 49,
   "metadata": {},
   "outputs": [
    {
     "name": "stdout",
     "output_type": "stream",
     "text": [
      "array([[[-0.14818342, -0.03429699]]], dtype=float32)\n"
     ]
    }
   ],
   "source": [
    "\n",
    "hidden_size = 2 # 출력\n",
    "cell = tf.contrib.rnn.BasicLSTMCell(num_units=hidden_size)\n",
    "\n",
    "x_data = np.array([[[1, 0, 0, 0]]], dtype=np.float32)\n",
    "outputs, _states = tf.nn.dynamic_rnn(cell, x_data, dtype=tf.float32)\n",
    "\n",
    "with tf.Session() as sess:\n",
    "    sess.run(tf.global_variables_initializer())\n",
    "    pp.pprint(outputs.eval()) # hidden size를 2로 설정해서 2개의 숫자가 나옴 "
   ]
  },
  {
   "cell_type": "code",
   "execution_count": 58,
   "metadata": {},
   "outputs": [
    {
     "name": "stdout",
     "output_type": "stream",
     "text": [
      "(1, 5, 4)\n",
      "array([[[1., 0., 0., 0.],\n",
      "        [0., 1., 0., 0.],\n",
      "        [0., 0., 1., 0.],\n",
      "        [0., 0., 1., 0.],\n",
      "        [0., 0., 0., 1.]]], dtype=float32)\n",
      "TensorShape([Dimension(1), Dimension(5), Dimension(2)])\n",
      "array([[[ 0.02176986, -0.07460836],\n",
      "        [ 0.02295088, -0.00409911],\n",
      "        [ 0.12142769,  0.1616712 ],\n",
      "        [ 0.18940225,  0.25942695],\n",
      "        [ 0.05223411,  0.14851867]]], dtype=float32)\n"
     ]
    }
   ],
   "source": [
    "hidden_size = 2 # 출력\n",
    "cell = tf.contrib.rnn.BasicLSTMCell(num_units=hidden_size)\n",
    "# one got encoding\n",
    "h = [1, 0, 0, 0]\n",
    "e = [0, 1, 0, 0]\n",
    "l = [0, 0, 1, 0]\n",
    "o = [0, 0, 0, 1]\n",
    "x_data = np.array([[h, e, l, l, o]], dtype=np.float32)\n",
    "print(x_data.shape)\n",
    "pp.pprint(x_data)\n",
    "outputs, _states = tf.nn.dynamic_rnn(cell, x_data, dtype=tf.float32)\n",
    "\n",
    "with tf.Session() as sess:\n",
    "    sess.run(tf.global_variables_initializer())\n",
    "    pp.pprint(outputs.shape)\n",
    "    pp.pprint(outputs.eval()) # hidden size를 2로 설정해서 2개의 숫자가 나옴 "
   ]
  },
  {
   "cell_type": "code",
   "execution_count": 64,
   "metadata": {},
   "outputs": [],
   "source": [
    "tf.reset_default_graph()"
   ]
  },
  {
   "cell_type": "markdown",
   "metadata": {},
   "source": [
    "# Batching input"
   ]
  },
  {
   "cell_type": "code",
   "execution_count": 65,
   "metadata": {},
   "outputs": [
    {
     "name": "stdout",
     "output_type": "stream",
     "text": [
      "array([[[1., 0., 0., 0.],\n",
      "        [0., 1., 0., 0.],\n",
      "        [0., 0., 1., 0.],\n",
      "        [0., 0., 1., 0.],\n",
      "        [0., 0., 0., 1.]],\n",
      "\n",
      "       [[0., 1., 0., 0.],\n",
      "        [0., 0., 0., 1.],\n",
      "        [0., 0., 1., 0.],\n",
      "        [0., 0., 1., 0.],\n",
      "        [0., 0., 1., 0.]],\n",
      "\n",
      "       [[0., 0., 1., 0.],\n",
      "        [0., 0., 1., 0.],\n",
      "        [0., 1., 0., 0.],\n",
      "        [0., 1., 0., 0.],\n",
      "        [0., 0., 1., 0.]]], dtype=float32)\n",
      "array([[[-0.01832227,  0.1322882 ],\n",
      "        [ 0.04130635,  0.14102276],\n",
      "        [ 0.03294666,  0.01866411],\n",
      "        [ 0.01133155, -0.04364531],\n",
      "        [ 0.04255771,  0.06038623]],\n",
      "\n",
      "       [[ 0.06515975,  0.09573485],\n",
      "        [ 0.09051507,  0.14786965],\n",
      "        [ 0.07982332,  0.01213932],\n",
      "        [ 0.05374415, -0.04514395],\n",
      "        [ 0.03271483, -0.077338  ]],\n",
      "\n",
      "       [[-0.0172464 , -0.05534362],\n",
      "        [-0.0298123 , -0.08557636],\n",
      "        [ 0.05229799,  0.03400481],\n",
      "        [ 0.10791409,  0.11720577],\n",
      "        [ 0.12183864,  0.00705203]]], dtype=float32)\n"
     ]
    }
   ],
   "source": [
    "x_data = np.array([[h, e, l, l, o],\n",
    "                   [e, o, l, l, l],\n",
    "                   [l, l, e, e, l]], dtype=np.float32)\n",
    "pp.pprint(x_data)\n",
    "\n",
    "cell = tf.contrib.rnn.BasicLSTMCell(num_units=2, state_is_tuple=True)\n",
    "outputs, _states = tf.nn.dynamic_rnn(cell, x_data, dtype=tf.float32)\n",
    "with tf.Session() as sess:\n",
    "    sess.run(tf.global_variables_initializer())\n",
    "    pp.pprint(outputs.eval())"
   ]
  },
  {
   "cell_type": "code",
   "execution_count": null,
   "metadata": {},
   "outputs": [],
   "source": []
  }
 ],
 "metadata": {
  "kernelspec": {
   "display_name": "Python 3",
   "language": "python",
   "name": "python3"
  },
  "language_info": {
   "codemirror_mode": {
    "name": "ipython",
    "version": 3
   },
   "file_extension": ".py",
   "mimetype": "text/x-python",
   "name": "python",
   "nbconvert_exporter": "python",
   "pygments_lexer": "ipython3",
   "version": "3.6.0"
  }
 },
 "nbformat": 4,
 "nbformat_minor": 2
}
