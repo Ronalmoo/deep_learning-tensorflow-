{
 "cells": [
  {
   "cell_type": "code",
   "execution_count": 1,
   "metadata": {},
   "outputs": [],
   "source": [
    "import pandas as pd\n",
    "import numpy as np\n",
    "import re\n",
    "import os\n",
    "import json\n",
    "\n",
    "from tensorflow.python.keras.preprocessing.text import Tokenizer\n",
    "from tensorflow.python.keras.preprocessing.sequence import pad_sequences"
   ]
  },
  {
   "cell_type": "code",
   "execution_count": 2,
   "metadata": {},
   "outputs": [
    {
     "name": "stderr",
     "output_type": "stream",
     "text": [
      "b'Skipping line 27290: expected 6 fields, saw 9\\nSkipping line 47638: expected 6 fields, saw 7\\nSkipping line 54392: expected 6 fields, saw 7\\nSkipping line 74782: expected 6 fields, saw 8\\nSkipping line 81569: expected 6 fields, saw 7\\nSkipping line 88323: expected 6 fields, saw 7\\nSkipping line 108520: expected 6 fields, saw 8\\nSkipping line 115307: expected 6 fields, saw 7\\n'\n",
      "b'Skipping line 148847: expected 6 fields, saw 7\\nSkipping line 182440: expected 6 fields, saw 10\\nSkipping line 215926: expected 6 fields, saw 9\\nSkipping line 229285: expected 6 fields, saw 7\\nSkipping line 242574: expected 6 fields, saw 7\\n'\n",
      "b'Skipping line 262519: expected 6 fields, saw 9\\nSkipping line 275798: expected 6 fields, saw 7\\nSkipping line 295754: expected 6 fields, saw 9\\nSkipping line 322347: expected 6 fields, saw 7\\nSkipping line 348986: expected 6 fields, saw 7\\n'\n",
      "b'Skipping line 395697: expected 6 fields, saw 7\\nSkipping line 435779: expected 6 fields, saw 9\\nSkipping line 449060: expected 6 fields, saw 7\\nSkipping line 469058: expected 6 fields, saw 10\\nSkipping line 482359: expected 6 fields, saw 7\\nSkipping line 495589: expected 6 fields, saw 7\\nSkipping line 502236: expected 6 fields, saw 7\\n'\n",
      "b'Skipping line 542134: expected 6 fields, saw 7\\nSkipping line 582216: expected 6 fields, saw 9\\nSkipping line 588879: expected 6 fields, saw 7\\nSkipping line 615635: expected 6 fields, saw 10\\nSkipping line 649010: expected 6 fields, saw 8\\n'\n",
      "b'Skipping line 682358: expected 6 fields, saw 8\\nSkipping line 715681: expected 6 fields, saw 7\\nSkipping line 728964: expected 6 fields, saw 7\\nSkipping line 748865: expected 6 fields, saw 7\\nSkipping line 762091: expected 6 fields, saw 7\\n'\n",
      "/Users/seungmoo/.pyenv/versions/3.6.0/envs/tensorflow/lib/python3.6/site-packages/IPython/core/interactiveshell.py:3020: DtypeWarning: Columns (0,1,2) have mixed types. Specify dtype option on import or set low_memory=False.\n",
      "  interactivity=interactivity, compiler=compiler, result=result)\n"
     ]
    }
   ],
   "source": [
    "train_data = pd.read_csv('data_in/quora_questions_pairs/train.csv', encoding='utf-8', error_bad_lines=False)"
   ]
  },
  {
   "cell_type": "code",
   "execution_count": 3,
   "metadata": {},
   "outputs": [
    {
     "data": {
      "text/html": [
       "<div>\n",
       "<style scoped>\n",
       "    .dataframe tbody tr th:only-of-type {\n",
       "        vertical-align: middle;\n",
       "    }\n",
       "\n",
       "    .dataframe tbody tr th {\n",
       "        vertical-align: top;\n",
       "    }\n",
       "\n",
       "    .dataframe thead th {\n",
       "        text-align: right;\n",
       "    }\n",
       "</style>\n",
       "<table border=\"1\" class=\"dataframe\">\n",
       "  <thead>\n",
       "    <tr style=\"text-align: right;\">\n",
       "      <th></th>\n",
       "      <th>id</th>\n",
       "      <th>qid1</th>\n",
       "      <th>qid2</th>\n",
       "      <th>question1</th>\n",
       "      <th>question2</th>\n",
       "      <th>is_duplicate</th>\n",
       "    </tr>\n",
       "  </thead>\n",
       "  <tbody>\n",
       "    <tr>\n",
       "      <th>0</th>\n",
       "      <td>0</td>\n",
       "      <td>1</td>\n",
       "      <td>2</td>\n",
       "      <td>What is the step by step guide to invest in sh...</td>\n",
       "      <td>What is the step by step guide to invest in sh...</td>\n",
       "      <td>0.0</td>\n",
       "    </tr>\n",
       "    <tr>\n",
       "      <th>1</th>\n",
       "      <td>1</td>\n",
       "      <td>3</td>\n",
       "      <td>4</td>\n",
       "      <td>What is the story of Kohinoor (Koh-i-Noor) Dia...</td>\n",
       "      <td>What would happen if the Indian government sto...</td>\n",
       "      <td>0.0</td>\n",
       "    </tr>\n",
       "    <tr>\n",
       "      <th>2</th>\n",
       "      <td>2</td>\n",
       "      <td>5</td>\n",
       "      <td>6</td>\n",
       "      <td>How can I increase the speed of my internet co...</td>\n",
       "      <td>How can Internet speed be increased by hacking...</td>\n",
       "      <td>0.0</td>\n",
       "    </tr>\n",
       "    <tr>\n",
       "      <th>3</th>\n",
       "      <td>3</td>\n",
       "      <td>7</td>\n",
       "      <td>8</td>\n",
       "      <td>Why am I mentally very lonely? How can I solve...</td>\n",
       "      <td>Find the remainder when [math]23^{24}[/math] i...</td>\n",
       "      <td>0.0</td>\n",
       "    </tr>\n",
       "    <tr>\n",
       "      <th>4</th>\n",
       "      <td>4</td>\n",
       "      <td>9</td>\n",
       "      <td>10</td>\n",
       "      <td>Which one dissolve in water quikly sugar, salt...</td>\n",
       "      <td>Which fish would survive in salt water?</td>\n",
       "      <td>0.0</td>\n",
       "    </tr>\n",
       "  </tbody>\n",
       "</table>\n",
       "</div>"
      ],
      "text/plain": [
       "  id qid1 qid2                                          question1  \\\n",
       "0  0    1    2  What is the step by step guide to invest in sh...   \n",
       "1  1    3    4  What is the story of Kohinoor (Koh-i-Noor) Dia...   \n",
       "2  2    5    6  How can I increase the speed of my internet co...   \n",
       "3  3    7    8  Why am I mentally very lonely? How can I solve...   \n",
       "4  4    9   10  Which one dissolve in water quikly sugar, salt...   \n",
       "\n",
       "                                           question2  is_duplicate  \n",
       "0  What is the step by step guide to invest in sh...           0.0  \n",
       "1  What would happen if the Indian government sto...           0.0  \n",
       "2  How can Internet speed be increased by hacking...           0.0  \n",
       "3  Find the remainder when [math]23^{24}[/math] i...           0.0  \n",
       "4            Which fish would survive in salt water?           0.0  "
      ]
     },
     "execution_count": 3,
     "metadata": {},
     "output_type": "execute_result"
    }
   ],
   "source": [
    "train_data.head()"
   ]
  },
  {
   "cell_type": "code",
   "execution_count": 4,
   "metadata": {},
   "outputs": [
    {
     "data": {
      "text/plain": [
       "Index(['id', 'qid1', 'qid2', 'question1', 'question2', 'is_duplicate'], dtype='object')"
      ]
     },
     "execution_count": 4,
     "metadata": {},
     "output_type": "execute_result"
    }
   ],
   "source": [
    "train_data.columns"
   ]
  },
  {
   "cell_type": "code",
   "execution_count": 5,
   "metadata": {},
   "outputs": [
    {
     "data": {
      "text/plain": [
       "788058"
      ]
     },
     "execution_count": 5,
     "metadata": {},
     "output_type": "execute_result"
    }
   ],
   "source": [
    "len(train_data)"
   ]
  },
  {
   "cell_type": "markdown",
   "metadata": {},
   "source": [
    "### 중복인 데이터와 아닌 데이터를 나눈 후 라벨 갯수의 균형을 맞춘다."
   ]
  },
  {
   "cell_type": "code",
   "execution_count": 9,
   "metadata": {},
   "outputs": [],
   "source": [
    "train_pos_data = train_data.loc[train_data['is_duplicate'] == 1]\n",
    "train_neg_data = train_data.loc[train_data['is_duplicate'] == 0]\n",
    "\n",
    "# class_difference = len(train_neg_data) - len(train_pos_data)\n",
    "# sample_frac = 1 - (class_difference / len(train_neg_data))\n",
    "\n",
    "# train_neg_data = train_neg_data.sample(frac=sample_frac)"
   ]
  },
  {
   "cell_type": "code",
   "execution_count": 12,
   "metadata": {},
   "outputs": [
    {
     "data": {
      "text/plain": [
       "206332"
      ]
     },
     "execution_count": 12,
     "metadata": {},
     "output_type": "execute_result"
    }
   ],
   "source": [
    "(len(train_neg_data) - len(train_pos_data)) / len(train_neg_data)"
   ]
  },
  {
   "cell_type": "code",
   "execution_count": 6,
   "metadata": {},
   "outputs": [
    {
     "data": {
      "text/plain": [
       "0.7094298622619841"
      ]
     },
     "execution_count": 6,
     "metadata": {},
     "output_type": "execute_result"
    }
   ],
   "source": [
    "class_difference/len(train_neg_data)"
   ]
  },
  {
   "cell_type": "code",
   "execution_count": 7,
   "metadata": {},
   "outputs": [
    {
     "data": {
      "text/plain": [
       "(290842, 290842)"
      ]
     },
     "execution_count": 7,
     "metadata": {},
     "output_type": "execute_result"
    }
   ],
   "source": [
    "len(train_neg_data), len(train_pos_data)"
   ]
  },
  {
   "cell_type": "code",
   "execution_count": 8,
   "metadata": {},
   "outputs": [],
   "source": [
    "train_data = pd.concat([train_neg_data, train_pos_data])"
   ]
  },
  {
   "cell_type": "code",
   "execution_count": 9,
   "metadata": {},
   "outputs": [
    {
     "data": {
      "text/plain": [
       "pandas.core.frame.DataFrame"
      ]
     },
     "execution_count": 9,
     "metadata": {},
     "output_type": "execute_result"
    }
   ],
   "source": [
    "\n",
    "type(train_neg_data)"
   ]
  },
  {
   "cell_type": "code",
   "execution_count": 10,
   "metadata": {},
   "outputs": [
    {
     "data": {
      "text/html": [
       "<div>\n",
       "<style scoped>\n",
       "    .dataframe tbody tr th:only-of-type {\n",
       "        vertical-align: middle;\n",
       "    }\n",
       "\n",
       "    .dataframe tbody tr th {\n",
       "        vertical-align: top;\n",
       "    }\n",
       "\n",
       "    .dataframe thead th {\n",
       "        text-align: right;\n",
       "    }\n",
       "</style>\n",
       "<table border=\"1\" class=\"dataframe\">\n",
       "  <thead>\n",
       "    <tr style=\"text-align: right;\">\n",
       "      <th></th>\n",
       "      <th>id</th>\n",
       "      <th>qid1</th>\n",
       "      <th>qid2</th>\n",
       "      <th>question1</th>\n",
       "      <th>question2</th>\n",
       "      <th>is_duplicate</th>\n",
       "    </tr>\n",
       "  </thead>\n",
       "  <tbody>\n",
       "    <tr>\n",
       "      <th>489088</th>\n",
       "      <td>261494</td>\n",
       "      <td>377652</td>\n",
       "      <td>377653</td>\n",
       "      <td>I am a student of instrumentation and control ...</td>\n",
       "      <td>Marvel aw boss node?</td>\n",
       "      <td>0.0</td>\n",
       "    </tr>\n",
       "    <tr>\n",
       "      <th>591923</th>\n",
       "      <td>297722</td>\n",
       "      <td>420114</td>\n",
       "      <td>420115</td>\n",
       "      <td>How can I better organize my thoughts before s...</td>\n",
       "      <td>Can primates speak?</td>\n",
       "      <td>0.0</td>\n",
       "    </tr>\n",
       "    <tr>\n",
       "      <th>126119</th>\n",
       "      <td>65313</td>\n",
       "      <td>113373</td>\n",
       "      <td>113374</td>\n",
       "      <td>Is it okay to offer someone who doesn't like y...</td>\n",
       "      <td>What do you call someone who is attracted to w...</td>\n",
       "      <td>0.0</td>\n",
       "    </tr>\n",
       "    <tr>\n",
       "      <th>720437</th>\n",
       "      <td>379541</td>\n",
       "      <td>511076</td>\n",
       "      <td>511077</td>\n",
       "      <td>What should I know as I am going to start new ...</td>\n",
       "      <td>I am an electrical graduate can any one sugges...</td>\n",
       "      <td>0.0</td>\n",
       "    </tr>\n",
       "    <tr>\n",
       "      <th>310467</th>\n",
       "      <td>156229</td>\n",
       "      <td>244545</td>\n",
       "      <td>244546</td>\n",
       "      <td>What is the equivalent resistance between the ...</td>\n",
       "      <td>What is the equivalent resistance between A an...</td>\n",
       "      <td>0.0</td>\n",
       "    </tr>\n",
       "  </tbody>\n",
       "</table>\n",
       "</div>"
      ],
      "text/plain": [
       "            id    qid1    qid2  \\\n",
       "489088  261494  377652  377653   \n",
       "591923  297722  420114  420115   \n",
       "126119   65313  113373  113374   \n",
       "720437  379541  511076  511077   \n",
       "310467  156229  244545  244546   \n",
       "\n",
       "                                                question1  \\\n",
       "489088  I am a student of instrumentation and control ...   \n",
       "591923  How can I better organize my thoughts before s...   \n",
       "126119  Is it okay to offer someone who doesn't like y...   \n",
       "720437  What should I know as I am going to start new ...   \n",
       "310467  What is the equivalent resistance between the ...   \n",
       "\n",
       "                                                question2  is_duplicate  \n",
       "489088                               Marvel aw boss node?           0.0  \n",
       "591923                                Can primates speak?           0.0  \n",
       "126119  What do you call someone who is attracted to w...           0.0  \n",
       "720437  I am an electrical graduate can any one sugges...           0.0  \n",
       "310467  What is the equivalent resistance between A an...           0.0  "
      ]
     },
     "execution_count": 10,
     "metadata": {},
     "output_type": "execute_result"
    }
   ],
   "source": [
    "train_data.head()"
   ]
  },
  {
   "cell_type": "code",
   "execution_count": 11,
   "metadata": {},
   "outputs": [
    {
     "data": {
      "text/plain": [
       "Index(['id', 'qid1', 'qid2', 'question1', 'question2', 'is_duplicate'], dtype='object')"
      ]
     },
     "execution_count": 11,
     "metadata": {},
     "output_type": "execute_result"
    }
   ],
   "source": [
    "train_data.columns"
   ]
  },
  {
   "cell_type": "code",
   "execution_count": 12,
   "metadata": {},
   "outputs": [],
   "source": [
    "FILTERS = \"([~.,!?\\\"':;)(])\""
   ]
  },
  {
   "cell_type": "code",
   "execution_count": 13,
   "metadata": {},
   "outputs": [],
   "source": [
    "change_filter = re.compile(FILTERS)"
   ]
  },
  {
   "cell_type": "code",
   "execution_count": 14,
   "metadata": {},
   "outputs": [],
   "source": [
    "questions1 = [str(s) for s in train_data['question1']]\n",
    "questions2 = [str(s) for s in train_data['question2']]\n",
    "\n",
    "filtered_questions1 = list()\n",
    "filtered_questions2 = list()\n",
    "\n",
    "for q in questions1:\n",
    "    filtered_questions1.append(re.sub(change_filter, '', q).lower())\n",
    "\n",
    "for q in questions2:\n",
    "    filtered_questions2.append(re.sub(change_filter, '', q).lower())"
   ]
  },
  {
   "cell_type": "code",
   "execution_count": 15,
   "metadata": {},
   "outputs": [],
   "source": [
    "tokenizer = Tokenizer()\n",
    "tokenizer.fit_on_texts(filtered_questions1 + filtered_questions2)"
   ]
  },
  {
   "cell_type": "code",
   "execution_count": 16,
   "metadata": {},
   "outputs": [],
   "source": [
    "questions1_sequence = tokenizer.texts_to_sequences(filtered_questions1)\n",
    "questions2_sequence = tokenizer.texts_to_sequences(filtered_questions2)"
   ]
  },
  {
   "cell_type": "code",
   "execution_count": 17,
   "metadata": {},
   "outputs": [],
   "source": [
    "max_sequence_length = 31\n",
    "\n",
    "q1_data = pad_sequences(questions1_sequence, maxlen = max_sequence_length, padding='post')\n",
    "q2_data = pad_sequences(questions2_sequence, maxlen = max_sequence_length, padding='post')"
   ]
  },
  {
   "cell_type": "code",
   "execution_count": 18,
   "metadata": {},
   "outputs": [],
   "source": [
    "word_vocab = tokenizer.word_index"
   ]
  },
  {
   "cell_type": "code",
   "execution_count": 19,
   "metadata": {},
   "outputs": [],
   "source": [
    "labels = np.array(train_data['is_duplicate'], dtype=int)"
   ]
  },
  {
   "cell_type": "code",
   "execution_count": 20,
   "metadata": {},
   "outputs": [
    {
     "data": {
      "text/plain": [
       "array([0, 0, 0, ..., 1, 1, 1])"
      ]
     },
     "execution_count": 20,
     "metadata": {},
     "output_type": "execute_result"
    }
   ],
   "source": [
    "labels"
   ]
  },
  {
   "cell_type": "code",
   "execution_count": 21,
   "metadata": {},
   "outputs": [
    {
     "data": {
      "text/plain": [
       "((581684, 31), (581684, 31), (581684,), 87774)"
      ]
     },
     "execution_count": 21,
     "metadata": {},
     "output_type": "execute_result"
    }
   ],
   "source": [
    "q1_data.shape, q2_data.shape, labels.shape, len(word_vocab)"
   ]
  },
  {
   "cell_type": "code",
   "execution_count": 22,
   "metadata": {},
   "outputs": [],
   "source": [
    "data_configs = {}\n",
    "data_configs['vocab'] = word_vocab\n",
    "data_configs['vocab_size'] = len(word_vocab) + 1"
   ]
  },
  {
   "cell_type": "code",
   "execution_count": 23,
   "metadata": {},
   "outputs": [
    {
     "data": {
      "text/plain": [
       "87775"
      ]
     },
     "execution_count": 23,
     "metadata": {},
     "output_type": "execute_result"
    }
   ],
   "source": [
    "data_configs['vocab_size']"
   ]
  },
  {
   "cell_type": "code",
   "execution_count": 24,
   "metadata": {},
   "outputs": [],
   "source": [
    "np.save(open('data_in/quora_questions_pairs/q1_train.npy', 'wb'), q1_data)\n",
    "np.save(open('data_in/quora_questions_pairs/q2_train.npy', 'wb'), q2_data)\n",
    "np.save(open('data_in/quora_questions_pairs/label_train.npy', 'wb'), labels)\n",
    "\n",
    "json.dump(data_configs, open('data_in/quora_questions_pairs/data_configs.json', 'w'))\n",
    "\n"
   ]
  },
  {
   "cell_type": "markdown",
   "metadata": {},
   "source": [
    "# Test data preprocessing"
   ]
  },
  {
   "cell_type": "code",
   "execution_count": 25,
   "metadata": {},
   "outputs": [],
   "source": [
    "test_data = pd.read_csv('data_in/quora_questions_pairs/test.csv', encoding='utf-8')"
   ]
  },
  {
   "cell_type": "code",
   "execution_count": 26,
   "metadata": {},
   "outputs": [],
   "source": [
    "valid_ids = [type(x) == int for x in test_data.test_id]\n",
    "test_data = test_data[valid_ids].drop_duplicates()"
   ]
  },
  {
   "cell_type": "code",
   "execution_count": 27,
   "metadata": {},
   "outputs": [
    {
     "data": {
      "text/plain": [
       "[]"
      ]
     },
     "execution_count": 27,
     "metadata": {},
     "output_type": "execute_result"
    }
   ],
   "source": [
    "list(filter(lambda x: x == False, valid_ids))"
   ]
  },
  {
   "cell_type": "code",
   "execution_count": 28,
   "metadata": {},
   "outputs": [
    {
     "data": {
      "text/plain": [
       "2345796"
      ]
     },
     "execution_count": 28,
     "metadata": {},
     "output_type": "execute_result"
    }
   ],
   "source": [
    "len(test_data)"
   ]
  },
  {
   "cell_type": "code",
   "execution_count": 29,
   "metadata": {},
   "outputs": [],
   "source": [
    "test_questions1 = [str(s) for s in test_data['question1']]\n",
    "test_questions2 = [str(s) for s in test_data['question2']]\n",
    "\n",
    "filtered_test_questions1 = list()\n",
    "filtered_test_questions2 = list()\n",
    "\n",
    "for q in test_questions1:\n",
    "    filtered_test_questions1.append(re.sub(change_filter, '', q).lower())\n",
    "\n",
    "for q in test_questions2:\n",
    "    filtered_test_questions2.append(re.sub(change_filter, '', q).lower())"
   ]
  },
  {
   "cell_type": "code",
   "execution_count": 30,
   "metadata": {},
   "outputs": [
    {
     "data": {
      "text/plain": [
       "re.compile(r'([~.,!?\"\\':;)(])', re.UNICODE)"
      ]
     },
     "execution_count": 30,
     "metadata": {},
     "output_type": "execute_result"
    }
   ],
   "source": [
    "change_filter"
   ]
  },
  {
   "cell_type": "code",
   "execution_count": 31,
   "metadata": {},
   "outputs": [],
   "source": [
    "test_questions1_sequence = tokenizer.texts_to_sequences(filtered_test_questions1)\n",
    "test_questions2_sequence = tokenizer.texts_to_sequences(filtered_test_questions2)"
   ]
  },
  {
   "cell_type": "code",
   "execution_count": 32,
   "metadata": {},
   "outputs": [],
   "source": [
    "test_q1_data = pad_sequences(test_questions1_sequence, maxlen=max_sequence_length, padding='post')\n",
    "test_q2_data = pad_sequences(test_questions2_sequence, maxlen=max_sequence_length, padding='post')"
   ]
  },
  {
   "cell_type": "markdown",
   "metadata": {},
   "source": [
    "### 케글 제출용 id 값"
   ]
  },
  {
   "cell_type": "code",
   "execution_count": 33,
   "metadata": {},
   "outputs": [
    {
     "data": {
      "text/plain": [
       "((2345796, 31), (2345796, 31), (2345796,))"
      ]
     },
     "execution_count": 33,
     "metadata": {},
     "output_type": "execute_result"
    }
   ],
   "source": [
    "test_id = np.array(test_data['test_id'])\n",
    "test_q1_data.shape, test_q2_data.shape, test_id.shape"
   ]
  },
  {
   "cell_type": "code",
   "execution_count": 34,
   "metadata": {},
   "outputs": [],
   "source": [
    "TEST_Q1_DATA = 'test_q1.npy'\n",
    "TEST_Q2_DATA = 'test_q2.npy'\n",
    "TEST_ID_DATA = 'test_id.npy'\n",
    "\n",
    "np.save(open('data_in/' + TEST_Q1_DATA, 'wb'), test_q1_data)\n",
    "np.save(open('data_in/' + TEST_Q2_DATA , 'wb'), test_q2_data)\n",
    "np.save(open('data_in/' + TEST_ID_DATA , 'wb'), test_id)"
   ]
  },
  {
   "cell_type": "code",
   "execution_count": null,
   "metadata": {},
   "outputs": [],
   "source": []
  }
 ],
 "metadata": {
  "kernelspec": {
   "display_name": "Python 3",
   "language": "python",
   "name": "python3"
  },
  "language_info": {
   "codemirror_mode": {
    "name": "ipython",
    "version": 3
   },
   "file_extension": ".py",
   "mimetype": "text/x-python",
   "name": "python",
   "nbconvert_exporter": "python",
   "pygments_lexer": "ipython3",
   "version": "3.6.0"
  }
 },
 "nbformat": 4,
 "nbformat_minor": 2
}
