{
 "cells": [
  {
   "cell_type": "code",
   "execution_count": 1,
   "metadata": {},
   "outputs": [],
   "source": [
    "import os\n",
    "from datetime import datetime\n",
    "import tensorflow as tf\n",
    "import numpy as np\n",
    "import json\n",
    "from sklearn.model_selection import train_test_split"
   ]
  },
  {
   "cell_type": "code",
   "execution_count": 2,
   "metadata": {},
   "outputs": [],
   "source": [
    "input_data = np.load(open('nsmc-master/nsmc_train_input.npy', 'rb'))\n",
    "label_data = np.load(open('nsmc-master/nsmc_train_label.npy', 'rb'))\n",
    "prepro_configs = json.load(open('nsmc-master/data_configs.json', 'r'))"
   ]
  },
  {
   "cell_type": "code",
   "execution_count": 3,
   "metadata": {},
   "outputs": [],
   "source": [
    "VOCAB_SIZE = prepro_configs['vocab_size'] + 1\n",
    "EMB_SIZE = 128\n",
    "BATCH_SIZE = 16\n",
    "NUM_EPOCHS = 1\n",
    "\n"
   ]
  },
  {
   "cell_type": "code",
   "execution_count": 56,
   "metadata": {},
   "outputs": [
    {
     "data": {
      "text/plain": [
       "43757"
      ]
     },
     "execution_count": 56,
     "metadata": {},
     "output_type": "execute_result"
    }
   ],
   "source": [
    "VOCAB_SIZE"
   ]
  },
  {
   "cell_type": "code",
   "execution_count": 57,
   "metadata": {},
   "outputs": [],
   "source": [
    "test_split = 0.1\n",
    "rng_seed = 13371447\n",
    "\n",
    "input_train, input_eval, label_train, label_eval = train_test_split(input_data, label_data, test_size=test_split, random_state=rng_seed)\n"
   ]
  },
  {
   "cell_type": "code",
   "execution_count": 58,
   "metadata": {},
   "outputs": [
    {
     "data": {
      "text/plain": [
       "((135000, 8), (15000, 8), (135000,), (15000,))"
      ]
     },
     "execution_count": 58,
     "metadata": {},
     "output_type": "execute_result"
    }
   ],
   "source": [
    "input_train.shape, input_eval.shape, label_train.shape, label_eval.shape"
   ]
  },
  {
   "cell_type": "code",
   "execution_count": 59,
   "metadata": {},
   "outputs": [
    {
     "data": {
      "text/plain": [
       "(135000, 15000, 135000, 15000)"
      ]
     },
     "execution_count": 59,
     "metadata": {},
     "output_type": "execute_result"
    }
   ],
   "source": [
    "len(input_train), len(input_eval), len(label_train), len(label_eval)"
   ]
  },
  {
   "cell_type": "code",
   "execution_count": 60,
   "metadata": {},
   "outputs": [],
   "source": [
    "def mapping_fn(X, Y):\n",
    "    input, label = {'x': X}, Y\n",
    "    return input, label\n",
    "\n",
    "def train_input_fn():\n",
    "    dataset = tf.data.Dataset.from_tensor_slices((input_train, label_train))\n",
    "    dataset = dataset.shuffle(buffer_size=len(input_train))\n",
    "    dataset = dataset.batch(BATCH_SIZE)\n",
    "    dataset = dataset.map(mapping_fn)\n",
    "    dataset = dataset.repeat(count=NUM_EPOCHS)\n",
    "    iterator = dataset.make_one_shot_iterator()\n",
    "    \n",
    "    return iterator.get_next()\n",
    "\n",
    "def eval_input_fn():\n",
    "    dataset = tf.data.Dataset.from_tensor_slices((input_eval, label_eval))\n",
    "    dataset = dataset.shuffle(buffer_size=len(input_eval))\n",
    "    dataset = dataset.batch(16)\n",
    "    dataset = dataset.map(mapping_fn)\n",
    "    iterator = dataset.make_one_shot_iterator()\n",
    "    \n",
    "    return iterator.get_next()"
   ]
  },
  {
   "cell_type": "code",
   "execution_count": 61,
   "metadata": {},
   "outputs": [],
   "source": [
    "def model_fn(features, labels, mode, params):\n",
    "    TRAIN = mode == tf.estimator.ModeKeys.TRAIN\n",
    "    EVAL = mode == tf.estimator.ModeKeys.EVAL\n",
    "    PREDICT = mode == tf.estimator.ModeKeys.PREDICT\n",
    "\n",
    "    embedding_layer = tf.keras.layers.Embedding(\n",
    "                    VOCAB_SIZE,\n",
    "                    EMB_SIZE)(features['x'])\n",
    "\n",
    "    dropout_emb = tf.keras.layers.Dropout(rate = 0.2)(embedding_layer)\n",
    "    \n",
    "    conv = tf.layers.conv1d(\n",
    "           inputs=dropout_emb,\n",
    "           filters=32,\n",
    "           kernel_size=3,\n",
    "           padding='same',\n",
    "           activation=tf.nn.relu)\n",
    "  \n",
    "    pool = tf.keras.layers.GlobalMaxPool1D()(conv)\n",
    "\n",
    "    hidden = tf.keras.layers.Dense(units=250, activation=tf.nn.relu)(pool)   \n",
    "\n",
    "\n",
    "    dropout_hidden = tf.keras.layers.Dropout(rate=0.2)(hidden, training = TRAIN)\n",
    "    logits = tf.keras.layers.Dense(units=1)(dropout_hidden)\n",
    "\n",
    "    if labels is not None:\n",
    "        labels = tf.reshape(labels, [-1, 1])\n",
    "        \n",
    "    if TRAIN:\n",
    "        global_step = tf.train.get_global_step()\n",
    "        loss = tf.losses.sigmoid_cross_entropy(labels, logits)\n",
    "        train_op = tf.train.AdamOptimizer(0.001).minimize(loss, global_step)\n",
    "\n",
    "        return tf.estimator.EstimatorSpec(mode=mode, train_op=train_op, loss = loss)\n",
    "    \n",
    "    elif EVAL:\n",
    "        loss = tf.losses.sigmoid_cross_entropy(labels, logits)\n",
    "        pred = tf.nn.sigmoid(logits)\n",
    "        accuracy = tf.metrics.accuracy(labels, tf.round(pred))\n",
    "        return tf.estimator.EstimatorSpec(mode=mode, loss=loss, eval_metric_ops={'acc': accuracy})\n",
    "        \n",
    "    elif PREDICT:\n",
    "        return tf.estimator.EstimatorSpec(\n",
    "            mode=mode,\n",
    "            predictions={\n",
    "                'prob': tf.nn.sigmoid(logits),\n",
    "            }\n",
    "        )"
   ]
  },
  {
   "cell_type": "code",
   "execution_count": 62,
   "metadata": {},
   "outputs": [
    {
     "name": "stdout",
     "output_type": "stream",
     "text": [
      "INFO:tensorflow:Using default config.\n",
      "INFO:tensorflow:Using config: {'_model_dir': 'data_out/checkpoint/cnn_model', '_tf_random_seed': None, '_save_summary_steps': 100, '_save_checkpoints_steps': None, '_save_checkpoints_secs': 600, '_session_config': allow_soft_placement: true\n",
      "graph_options {\n",
      "  rewrite_options {\n",
      "    meta_optimizer_iterations: ONE\n",
      "  }\n",
      "}\n",
      ", '_keep_checkpoint_max': 5, '_keep_checkpoint_every_n_hours': 10000, '_log_step_count_steps': 100, '_train_distribute': None, '_device_fn': None, '_protocol': None, '_eval_distribute': None, '_experimental_distribute': None, '_service': None, '_cluster_spec': <tensorflow.python.training.server_lib.ClusterSpec object at 0x140c20048>, '_task_type': 'worker', '_task_id': 0, '_global_id_in_cluster': 0, '_master': '', '_evaluation_master': '', '_is_chief': True, '_num_ps_replicas': 0, '_num_worker_replicas': 1}\n",
      "WARNING:tensorflow:Estimator's model_fn (<function model_fn at 0x142bd9510>) includes params argument, but params are not passed to Estimator.\n"
     ]
    }
   ],
   "source": [
    "est = tf.estimator.Estimator(model_fn, model_dir=\"data_out/checkpoint/cnn_model\")"
   ]
  },
  {
   "cell_type": "code",
   "execution_count": 63,
   "metadata": {},
   "outputs": [
    {
     "name": "stdout",
     "output_type": "stream",
     "text": [
      "Experiment started at 15:47:04\n",
      ".......................................\n",
      "INFO:tensorflow:Calling model_fn.\n",
      "INFO:tensorflow:Done calling model_fn.\n",
      "INFO:tensorflow:Create CheckpointSaverHook.\n",
      "INFO:tensorflow:Graph was finalized.\n",
      "INFO:tensorflow:Running local_init_op.\n",
      "INFO:tensorflow:Done running local_init_op.\n",
      "INFO:tensorflow:Saving checkpoints for 0 into data_out/checkpoint/cnn_model/model.ckpt.\n",
      "INFO:tensorflow:loss = 0.6927129, step = 1\n",
      "INFO:tensorflow:global_step/sec: 44.9699\n",
      "INFO:tensorflow:loss = 0.6622977, step = 101 (2.225 sec)\n",
      "INFO:tensorflow:global_step/sec: 53.2944\n",
      "INFO:tensorflow:loss = 0.5653749, step = 201 (1.876 sec)\n",
      "INFO:tensorflow:global_step/sec: 52.0028\n",
      "INFO:tensorflow:loss = 0.4159905, step = 301 (1.923 sec)\n",
      "INFO:tensorflow:global_step/sec: 45.6218\n",
      "INFO:tensorflow:loss = 0.6291093, step = 401 (2.192 sec)\n",
      "INFO:tensorflow:global_step/sec: 48.2794\n",
      "INFO:tensorflow:loss = 0.8714328, step = 501 (2.071 sec)\n",
      "INFO:tensorflow:global_step/sec: 47.8911\n",
      "INFO:tensorflow:loss = 0.42044452, step = 601 (2.088 sec)\n",
      "INFO:tensorflow:global_step/sec: 53.1238\n",
      "INFO:tensorflow:loss = 0.2781093, step = 701 (1.882 sec)\n",
      "INFO:tensorflow:global_step/sec: 50.2968\n",
      "INFO:tensorflow:loss = 0.6239215, step = 801 (1.988 sec)\n",
      "INFO:tensorflow:global_step/sec: 50.9623\n",
      "INFO:tensorflow:loss = 0.3298784, step = 901 (1.962 sec)\n",
      "INFO:tensorflow:global_step/sec: 48.1332\n",
      "INFO:tensorflow:loss = 0.6341727, step = 1001 (2.078 sec)\n",
      "INFO:tensorflow:global_step/sec: 45.2205\n",
      "INFO:tensorflow:loss = 0.51812124, step = 1101 (2.211 sec)\n",
      "INFO:tensorflow:global_step/sec: 46.636\n",
      "INFO:tensorflow:loss = 0.4202751, step = 1201 (2.145 sec)\n",
      "INFO:tensorflow:global_step/sec: 48.9132\n",
      "INFO:tensorflow:loss = 0.42203307, step = 1301 (2.044 sec)\n",
      "INFO:tensorflow:global_step/sec: 48.1711\n",
      "INFO:tensorflow:loss = 0.41709417, step = 1401 (2.076 sec)\n",
      "INFO:tensorflow:global_step/sec: 46.5211\n",
      "INFO:tensorflow:loss = 0.52878594, step = 1501 (2.150 sec)\n",
      "INFO:tensorflow:global_step/sec: 45.925\n",
      "INFO:tensorflow:loss = 0.3404681, step = 1601 (2.177 sec)\n",
      "INFO:tensorflow:global_step/sec: 46.4057\n",
      "INFO:tensorflow:loss = 0.34073478, step = 1701 (2.155 sec)\n",
      "INFO:tensorflow:global_step/sec: 49.8708\n",
      "INFO:tensorflow:loss = 0.24910608, step = 1801 (2.005 sec)\n",
      "INFO:tensorflow:global_step/sec: 46.6196\n",
      "INFO:tensorflow:loss = 0.37286505, step = 1901 (2.145 sec)\n",
      "INFO:tensorflow:global_step/sec: 49.8311\n",
      "INFO:tensorflow:loss = 0.37053728, step = 2001 (2.006 sec)\n",
      "INFO:tensorflow:global_step/sec: 47.2471\n",
      "INFO:tensorflow:loss = 0.42233497, step = 2101 (2.117 sec)\n",
      "INFO:tensorflow:global_step/sec: 44.4501\n",
      "INFO:tensorflow:loss = 0.6633072, step = 2201 (2.250 sec)\n",
      "INFO:tensorflow:global_step/sec: 44.668\n",
      "INFO:tensorflow:loss = 0.3934979, step = 2301 (2.239 sec)\n",
      "INFO:tensorflow:global_step/sec: 40.6557\n",
      "INFO:tensorflow:loss = 0.37116703, step = 2401 (2.459 sec)\n",
      "INFO:tensorflow:global_step/sec: 43.5809\n",
      "INFO:tensorflow:loss = 0.3384978, step = 2501 (2.295 sec)\n",
      "INFO:tensorflow:global_step/sec: 45.5713\n",
      "INFO:tensorflow:loss = 0.35499704, step = 2601 (2.194 sec)\n",
      "INFO:tensorflow:global_step/sec: 44.0476\n",
      "INFO:tensorflow:loss = 0.337707, step = 2701 (2.270 sec)\n",
      "INFO:tensorflow:global_step/sec: 44.6321\n",
      "INFO:tensorflow:loss = 0.33105773, step = 2801 (2.240 sec)\n",
      "INFO:tensorflow:global_step/sec: 43.0615\n",
      "INFO:tensorflow:loss = 0.5012425, step = 2901 (2.323 sec)\n",
      "INFO:tensorflow:global_step/sec: 45.2136\n",
      "INFO:tensorflow:loss = 0.52282774, step = 3001 (2.211 sec)\n",
      "INFO:tensorflow:global_step/sec: 46.055\n",
      "INFO:tensorflow:loss = 0.50153404, step = 3101 (2.171 sec)\n",
      "INFO:tensorflow:global_step/sec: 44.8381\n",
      "INFO:tensorflow:loss = 0.3817895, step = 3201 (2.230 sec)\n",
      "INFO:tensorflow:global_step/sec: 45.7483\n",
      "INFO:tensorflow:loss = 0.46217048, step = 3301 (2.186 sec)\n",
      "INFO:tensorflow:global_step/sec: 46.6355\n",
      "INFO:tensorflow:loss = 0.64634204, step = 3401 (2.144 sec)\n",
      "INFO:tensorflow:global_step/sec: 47.9393\n",
      "INFO:tensorflow:loss = 0.19037521, step = 3501 (2.086 sec)\n",
      "INFO:tensorflow:global_step/sec: 48.1177\n",
      "INFO:tensorflow:loss = 0.34598443, step = 3601 (2.078 sec)\n",
      "INFO:tensorflow:global_step/sec: 44.9876\n",
      "INFO:tensorflow:loss = 0.5209379, step = 3701 (2.223 sec)\n",
      "INFO:tensorflow:global_step/sec: 48.4232\n",
      "INFO:tensorflow:loss = 0.46200478, step = 3801 (2.065 sec)\n",
      "INFO:tensorflow:global_step/sec: 47.3194\n",
      "INFO:tensorflow:loss = 0.25169772, step = 3901 (2.113 sec)\n",
      "INFO:tensorflow:global_step/sec: 46.5218\n",
      "INFO:tensorflow:loss = 0.20407379, step = 4001 (2.150 sec)\n",
      "INFO:tensorflow:global_step/sec: 49.7232\n",
      "INFO:tensorflow:loss = 0.4761762, step = 4101 (2.011 sec)\n",
      "INFO:tensorflow:global_step/sec: 45.776\n",
      "INFO:tensorflow:loss = 0.3807631, step = 4201 (2.184 sec)\n",
      "INFO:tensorflow:global_step/sec: 44.4542\n",
      "INFO:tensorflow:loss = 0.5534574, step = 4301 (2.249 sec)\n",
      "INFO:tensorflow:global_step/sec: 44.9979\n",
      "INFO:tensorflow:loss = 0.52186346, step = 4401 (2.222 sec)\n",
      "INFO:tensorflow:global_step/sec: 48.051\n",
      "INFO:tensorflow:loss = 0.39285445, step = 4501 (2.082 sec)\n",
      "INFO:tensorflow:global_step/sec: 45.7177\n",
      "INFO:tensorflow:loss = 0.36558026, step = 4601 (2.187 sec)\n",
      "INFO:tensorflow:global_step/sec: 51.0655\n",
      "INFO:tensorflow:loss = 0.5813345, step = 4701 (1.958 sec)\n",
      "INFO:tensorflow:global_step/sec: 47.8482\n",
      "INFO:tensorflow:loss = 0.15909705, step = 4801 (2.090 sec)\n",
      "INFO:tensorflow:global_step/sec: 41.8645\n",
      "INFO:tensorflow:loss = 0.43059725, step = 4901 (2.389 sec)\n",
      "INFO:tensorflow:global_step/sec: 46.5957\n",
      "INFO:tensorflow:loss = 0.6959362, step = 5001 (2.145 sec)\n",
      "INFO:tensorflow:global_step/sec: 46.787\n",
      "INFO:tensorflow:loss = 0.6109173, step = 5101 (2.138 sec)\n",
      "INFO:tensorflow:global_step/sec: 43.0866\n",
      "INFO:tensorflow:loss = 0.43135953, step = 5201 (2.321 sec)\n",
      "INFO:tensorflow:global_step/sec: 47.8334\n",
      "INFO:tensorflow:loss = 0.36701375, step = 5301 (2.091 sec)\n",
      "INFO:tensorflow:global_step/sec: 45.9403\n",
      "INFO:tensorflow:loss = 0.30796257, step = 5401 (2.176 sec)\n",
      "INFO:tensorflow:global_step/sec: 45.362\n",
      "INFO:tensorflow:loss = 0.3853661, step = 5501 (2.204 sec)\n",
      "INFO:tensorflow:global_step/sec: 47.9916\n",
      "INFO:tensorflow:loss = 0.47658062, step = 5601 (2.084 sec)\n",
      "INFO:tensorflow:global_step/sec: 45.2703\n",
      "INFO:tensorflow:loss = 0.39417017, step = 5701 (2.209 sec)\n",
      "INFO:tensorflow:global_step/sec: 42.4936\n",
      "INFO:tensorflow:loss = 0.4552361, step = 5801 (2.353 sec)\n",
      "INFO:tensorflow:global_step/sec: 40.5532\n",
      "INFO:tensorflow:loss = 0.27659744, step = 5901 (2.466 sec)\n",
      "INFO:tensorflow:global_step/sec: 41.2489\n",
      "INFO:tensorflow:loss = 0.43353984, step = 6001 (2.424 sec)\n",
      "INFO:tensorflow:global_step/sec: 46.6276\n",
      "INFO:tensorflow:loss = 0.48115882, step = 6101 (2.145 sec)\n",
      "INFO:tensorflow:global_step/sec: 48.8374\n",
      "INFO:tensorflow:loss = 0.28724897, step = 6201 (2.047 sec)\n",
      "INFO:tensorflow:global_step/sec: 47.8041\n",
      "INFO:tensorflow:loss = 0.4577242, step = 6301 (2.092 sec)\n",
      "INFO:tensorflow:global_step/sec: 49.5695\n",
      "INFO:tensorflow:loss = 0.30563506, step = 6401 (2.018 sec)\n",
      "INFO:tensorflow:global_step/sec: 48.2566\n",
      "INFO:tensorflow:loss = 0.28217557, step = 6501 (2.072 sec)\n",
      "INFO:tensorflow:global_step/sec: 50.402\n",
      "INFO:tensorflow:loss = 0.5201795, step = 6601 (1.984 sec)\n",
      "INFO:tensorflow:global_step/sec: 52.6262\n",
      "INFO:tensorflow:loss = 0.600088, step = 6701 (1.900 sec)\n",
      "INFO:tensorflow:global_step/sec: 48.0955\n",
      "INFO:tensorflow:loss = 0.22000888, step = 6801 (2.079 sec)\n",
      "INFO:tensorflow:global_step/sec: 49.1729\n",
      "INFO:tensorflow:loss = 0.49192223, step = 6901 (2.034 sec)\n",
      "INFO:tensorflow:global_step/sec: 48.8421\n",
      "INFO:tensorflow:loss = 0.3348242, step = 7001 (2.047 sec)\n",
      "INFO:tensorflow:global_step/sec: 49.1549\n",
      "INFO:tensorflow:loss = 0.19754905, step = 7101 (2.035 sec)\n",
      "INFO:tensorflow:global_step/sec: 47.325\n",
      "INFO:tensorflow:loss = 0.1973691, step = 7201 (2.113 sec)\n",
      "INFO:tensorflow:global_step/sec: 43.8519\n",
      "INFO:tensorflow:loss = 0.32642636, step = 7301 (2.280 sec)\n",
      "INFO:tensorflow:global_step/sec: 42.5077\n",
      "INFO:tensorflow:loss = 0.2591228, step = 7401 (2.352 sec)\n",
      "INFO:tensorflow:global_step/sec: 47.1536\n",
      "INFO:tensorflow:loss = 0.70830786, step = 7501 (2.121 sec)\n",
      "INFO:tensorflow:global_step/sec: 46.7994\n",
      "INFO:tensorflow:loss = 0.31155348, step = 7601 (2.136 sec)\n",
      "INFO:tensorflow:global_step/sec: 47.1196\n",
      "INFO:tensorflow:loss = 0.2396731, step = 7701 (2.123 sec)\n",
      "INFO:tensorflow:global_step/sec: 45.7861\n",
      "INFO:tensorflow:loss = 0.31369594, step = 7801 (2.184 sec)\n",
      "INFO:tensorflow:global_step/sec: 43.1672\n"
     ]
    },
    {
     "name": "stdout",
     "output_type": "stream",
     "text": [
      "INFO:tensorflow:loss = 0.4923272, step = 7901 (2.316 sec)\n",
      "INFO:tensorflow:global_step/sec: 41.8341\n",
      "INFO:tensorflow:loss = 0.48551875, step = 8001 (2.390 sec)\n",
      "INFO:tensorflow:global_step/sec: 45.0673\n",
      "INFO:tensorflow:loss = 0.45027465, step = 8101 (2.219 sec)\n",
      "INFO:tensorflow:global_step/sec: 41.8854\n",
      "INFO:tensorflow:loss = 0.6825806, step = 8201 (2.388 sec)\n",
      "INFO:tensorflow:global_step/sec: 49.5886\n",
      "INFO:tensorflow:loss = 0.25300533, step = 8301 (2.016 sec)\n",
      "INFO:tensorflow:global_step/sec: 50.5065\n",
      "INFO:tensorflow:loss = 0.15840733, step = 8401 (1.980 sec)\n",
      "INFO:tensorflow:Saving checkpoints for 8438 into data_out/checkpoint/cnn_model/model.ckpt.\n",
      "INFO:tensorflow:Loss for final step: 0.27584594.\n",
      ".......................................\n",
      "Experiment finished at 15:50:09\n",
      "\n",
      "Experiment elapsed time: 185.521135 seconds\n"
     ]
    }
   ],
   "source": [
    "time_start = datetime.utcnow()\n",
    "print(\"Experiment started at {}\".format(time_start.strftime(\"%H:%M:%S\")))\n",
    "print(\".......................................\") \n",
    "\n",
    "est.train(train_input_fn)\n",
    "\n",
    "time_end = datetime.utcnow()\n",
    "print(\".......................................\")\n",
    "print(\"Experiment finished at {}\".format(time_end.strftime(\"%H:%M:%S\")))\n",
    "print(\"\")\n",
    "time_elapsed = time_end - time_start\n",
    "print(\"Experiment elapsed time: {} seconds\".format(time_elapsed.total_seconds()))"
   ]
  },
  {
   "cell_type": "code",
   "execution_count": 64,
   "metadata": {},
   "outputs": [
    {
     "name": "stdout",
     "output_type": "stream",
     "text": [
      "INFO:tensorflow:Calling model_fn.\n",
      "INFO:tensorflow:Done calling model_fn.\n",
      "INFO:tensorflow:Starting evaluation at 2019-03-07-15:50:32\n",
      "INFO:tensorflow:Graph was finalized.\n",
      "INFO:tensorflow:Restoring parameters from data_out/checkpoint/cnn_model/model.ckpt-8438\n",
      "INFO:tensorflow:Running local_init_op.\n",
      "INFO:tensorflow:Done running local_init_op.\n",
      "INFO:tensorflow:Finished evaluation at 2019-03-07-15:50:33\n",
      "INFO:tensorflow:Saving dict for global step 8438: acc = 0.82446665, global_step = 8438, loss = 0.3820936\n",
      "INFO:tensorflow:Saving 'checkpoint_path' summary for global step 8438: data_out/checkpoint/cnn_model/model.ckpt-8438\n"
     ]
    }
   ],
   "source": [
    "valid = est.evaluate(eval_input_fn)"
   ]
  },
  {
   "cell_type": "code",
   "execution_count": 66,
   "metadata": {},
   "outputs": [],
   "source": [
    "INPUT_TEST_DATA = 'nsmc_test_input.npy'\n",
    "LABEL_TEST_DATA = 'nsmc_test_label.npy'\n",
    "\n",
    "test_input_data = np.load(open('nsmc-master/' + INPUT_TEST_DATA, 'rb'))\n",
    "test_label_data = np.load(open('nsmc-master/' + LABEL_TEST_DATA, 'rb'))"
   ]
  },
  {
   "cell_type": "code",
   "execution_count": 67,
   "metadata": {},
   "outputs": [],
   "source": [
    "def test_input_fn():\n",
    "    dataset = tf.data.Dataset.from_tensor_slices((test_input_data, test_label_data))\n",
    "    dataset = dataset.batch(16)\n",
    "    dataset = dataset.map(mapping_fn)\n",
    "    iterator = dataset.make_one_shot_iterator()\n",
    "    \n",
    "    return iterator.get_next()"
   ]
  },
  {
   "cell_type": "code",
   "execution_count": 68,
   "metadata": {},
   "outputs": [
    {
     "name": "stdout",
     "output_type": "stream",
     "text": [
      "INFO:tensorflow:Calling model_fn.\n",
      "INFO:tensorflow:Done calling model_fn.\n",
      "INFO:tensorflow:Starting evaluation at 2019-03-07-15:51:22\n",
      "INFO:tensorflow:Graph was finalized.\n",
      "INFO:tensorflow:Restoring parameters from data_out/checkpoint/cnn_model/model.ckpt-8438\n",
      "INFO:tensorflow:Running local_init_op.\n",
      "INFO:tensorflow:Done running local_init_op.\n",
      "INFO:tensorflow:Finished evaluation at 2019-03-07-15:51:23\n",
      "INFO:tensorflow:Saving dict for global step 8438: acc = 0.8261, global_step = 8438, loss = 0.3843277\n",
      "INFO:tensorflow:Saving 'checkpoint_path' summary for global step 8438: data_out/checkpoint/cnn_model/model.ckpt-8438\n"
     ]
    }
   ],
   "source": [
    "predict = est.evaluate(test_input_fn) "
   ]
  },
  {
   "cell_type": "code",
   "execution_count": null,
   "metadata": {},
   "outputs": [],
   "source": []
  }
 ],
 "metadata": {
  "kernelspec": {
   "display_name": "Python 3",
   "language": "python",
   "name": "python3"
  },
  "language_info": {
   "codemirror_mode": {
    "name": "ipython",
    "version": 3
   },
   "file_extension": ".py",
   "mimetype": "text/x-python",
   "name": "python",
   "nbconvert_exporter": "python",
   "pygments_lexer": "ipython3",
   "version": "3.7.2"
  }
 },
 "nbformat": 4,
 "nbformat_minor": 2
}
