{
 "cells": [
  {
   "cell_type": "code",
   "execution_count": 2,
   "metadata": {},
   "outputs": [],
   "source": [
    "import sys\n",
    "import os\n",
    "import numpy as np\n",
    "import json\n",
    "\n",
    "from sklearn.model_selection import train_test_split\n",
    "import pandas as pd\n",
    "\n",
    "import tensorflow as tf\n",
    "from tensorflow import keras\n",
    "from tensorflow.keras.preprocessing.sequence import pad_sequences\n",
    "from tensorflow.keras.preprocessing.text import Tokenizer\n",
    "from tensorflow.keras.preprocessing import sequence"
   ]
  },
  {
   "cell_type": "code",
   "execution_count": 3,
   "metadata": {},
   "outputs": [
    {
     "name": "stdout",
     "output_type": "stream",
     "text": [
      "dict_keys(['vocab', 'vocab_size'])\n"
     ]
    }
   ],
   "source": [
    "DATA_IN_PATH = './data_in/'\n",
    "DATA_OUT_PATH = './data_out/'\n",
    "TRAIN_INPUT_DATA = 'train_input.npy'\n",
    "TRAIN_LABEL_DATA = 'train_label.npy'\n",
    "TEST_INPUT_DATA = 'test_input.npy'\n",
    "TEST_ID_DATA = 'test_id.npy'\n",
    "\n",
    "DATA_CONFIGS = 'data_configs.json'\n",
    "\n",
    "train_input_data = np.load(open(DATA_IN_PATH + TRAIN_INPUT_DATA, 'rb'))\n",
    "train_label_data = np.load(open(DATA_IN_PATH + TRAIN_LABEL_DATA, 'rb'))\n",
    "test_input_data = np.load(open(DATA_IN_PATH + TEST_INPUT_DATA, 'rb'))\n",
    "\n",
    "with open(DATA_IN_PATH + DATA_CONFIGS, 'r') as f:\n",
    "    prepro_configs = json.load(f)\n",
    "    print(prepro_configs.keys())"
   ]
  },
  {
   "cell_type": "code",
   "execution_count": 8,
   "metadata": {},
   "outputs": [],
   "source": [
    "# 파라미터 변수\n",
    "rng_seed = 1234\n",
    "batch_size = 16\n",
    "num_epochs = 3\n",
    "vocab_size = prepro_configs['vocab_size'] + 1\n",
    "emb_size = 128\n",
    "valid_split = 0.2\n",
    "train_input, eval_input, train_label, eval_label = train_test_split(train_input_data, train_label_data, test_size=valid_split, random_state=rng_seed)\n"
   ]
  },
  {
   "cell_type": "markdown",
   "metadata": {},
   "source": [
    "# tf.data 세팅"
   ]
  },
  {
   "cell_type": "code",
   "execution_count": 20,
   "metadata": {},
   "outputs": [],
   "source": [
    "def mapping_fn(X, Y=None):\n",
    "    input, label = {'x': X}, Y\n",
    "    return input, label\n",
    "\n",
    "def train_input_fn():\n",
    "    dataset = tf.data.Dataset.from_tensor_slices((train_input, train_label))\n",
    "    dataset = dataset.shuffle(buffer_size=len(train_input))\n",
    "    dataset = dataset.batch(batch_size)\n",
    "    dataset = dataset.map(mapping_fn)\n",
    "    dataset = dataset.repeat(count=num_epochs)\n",
    "    \n",
    "    iterator = dataset.make_one_shot_iterator()\n",
    "    \n",
    "    return iterator.get_next()\n",
    "\n",
    "def eval_input_fn():\n",
    "    dataset = tf.data.Dataset.from_tensor_slices((eval_input, eval_label))\n",
    "    dataset = dataset.shuffle(buffer_size=len(eval_input))\n",
    "    dataset = dataset.batch(batch_size)\n",
    "    dataset = dataset.map(mapping_fn)\n",
    "    \n",
    "    iterator = dataset.make_one_shot_iterator()\n",
    "    \n",
    "    return iterator.get_next()"
   ]
  },
  {
   "cell_type": "markdown",
   "metadata": {},
   "source": [
    "# 모델 세팅"
   ]
  },
  {
   "cell_type": "code",
   "execution_count": 23,
   "metadata": {},
   "outputs": [],
   "source": [
    "# 모델에 대한 메인 부분입니다.\n",
    "\n",
    "\n",
    "def model_fn(features, labels, mode):\n",
    "\n",
    "    TRAIN = mode == tf.estimator.ModeKeys.TRAIN\n",
    "    EVAL = mode == tf.estimator.ModeKeys.EVAL\n",
    "    PREDICT = mode == tf.estimator.ModeKeys.PREDICT\n",
    "    \n",
    "    #embedding layer를 선언합니다.\n",
    "    embedding_layer = keras.layers.Embedding(\n",
    "                    vocab_size,\n",
    "                    emb_size)(features['x'])\n",
    "    \n",
    "    # embedding layer에 대한 output에 대해 dropout을 취합니다.\n",
    "    dropout_emb = keras.layers.Dropout(rate=0.5)(embedding_layer)\n",
    "\n",
    "    ## filters = 128이고 kernel_size = 3,4,5입니다.\n",
    "    ## 길이가 3,4,5인 128개의 다른 필터를 생성합니다. 3,4,5 gram의 효과처럼 다양한 각도에서 문장을 보는 효과가 있습니다.\n",
    "    ## conv1d는 (배치사이즈, 길이, 채널)로 입력값을 받는데, 배치사이즈: 문장 숫자 | 길이: 각 문장의 단어의 개수 | 채널: 임베딩 출력 차원수임\n",
    "    \n",
    "    conv1 = keras.layers.Conv1D(\n",
    "         filters=128,\n",
    "         kernel_size=3,\n",
    "        padding='valid',\n",
    "         activation=tf.nn.relu)(dropout_emb)\n",
    "    \n",
    "    pool1 = keras.layers.GlobalMaxPool1D()(conv1)\n",
    "\n",
    "    conv2 = keras.layers.Conv1D(\n",
    "         filters=128,\n",
    "         kernel_size=4,\n",
    "        padding='valid',\n",
    "         activation=tf.nn.relu)(dropout_emb)\n",
    "    \n",
    "    pool2 = keras.layers.GlobalMaxPool1D()(conv2)\n",
    "    \n",
    "    conv3 = keras.layers.Conv1D(\n",
    "         filters=128,\n",
    "         kernel_size=5,\n",
    "        padding='valid',\n",
    "         activation=tf.nn.relu)(dropout_emb)\n",
    "    pool3 = keras.layers.GlobalMaxPool1D()(conv3)\n",
    "    \n",
    "    concat = keras.layers.concatenate([pool1, pool2, pool3]) #3,4,5gram이후 모아주기\n",
    "    \n",
    "    hidden = keras.layers.Dense(250, activation=tf.nn.relu)(concat)\n",
    "    dropout_hidden = keras.layers.Dropout(rate=0.5)(hidden)\n",
    "    logits = keras.layers.Dense(1, name='logits')(dropout_hidden)\n",
    "    logits = tf.squeeze(logits, axis=-1)\n",
    "    \n",
    "    #최종적으로 학습, 평가, 테스트의 단계로 나누어 활용\n",
    "    \n",
    "    if PREDICT:\n",
    "        return tf.estimator.EstimatorSpec(\n",
    "            mode=mode,\n",
    "            predictions={\n",
    "                'prob': tf.nn.sigmoid(logits)\n",
    "            }\n",
    "        )\n",
    "        \n",
    "    loss = tf.losses.sigmoid_cross_entropy(labels, logits)\n",
    "\n",
    "    if EVAL:\n",
    "        pred = tf.nn.sigmoid(logits)\n",
    "        accuracy = tf.metrics.accuracy(labels, tf.round(pred))\n",
    "        return tf.estimator.EstimatorSpec(mode=mode, loss=loss, eval_metric_ops={'acc': accuracy})\n",
    "        \n",
    "    if TRAIN:\n",
    "        global_step = tf.train.get_global_step()\n",
    "        train_op = tf.train.AdamOptimizer(0.001).minimize(loss, global_step)\n",
    "\n",
    "        return tf.estimator.EstimatorSpec(mode=mode, train_op=train_op, loss = loss)"
   ]
  },
  {
   "cell_type": "code",
   "execution_count": 24,
   "metadata": {},
   "outputs": [
    {
     "name": "stdout",
     "output_type": "stream",
     "text": [
      "INFO:tensorflow:Using config: {'_model_dir': '/Users/seungmoo/SM/Workspace/NLP/텐서플로와 머신러닝으로 시작하는 자연어 처리/study/data_out/checkpoint/cnn/', '_tf_random_seed': None, '_save_summary_steps': 100, '_save_checkpoints_steps': 200, '_save_checkpoints_secs': None, '_session_config': allow_soft_placement: true\n",
      "graph_options {\n",
      "  rewrite_options {\n",
      "    meta_optimizer_iterations: ONE\n",
      "  }\n",
      "}\n",
      ", '_keep_checkpoint_max': 2, '_keep_checkpoint_every_n_hours': 10000, '_log_step_count_steps': 400, '_train_distribute': None, '_device_fn': None, '_protocol': None, '_eval_distribute': None, '_experimental_distribute': None, '_service': None, '_cluster_spec': <tensorflow.python.training.server_lib.ClusterSpec object at 0x13ead6ac8>, '_task_type': 'worker', '_task_id': 0, '_global_id_in_cluster': 0, '_master': '', '_evaluation_master': '', '_is_chief': True, '_num_ps_replicas': 0, '_num_worker_replicas': 1}\n",
      "INFO:tensorflow:Calling model_fn.\n",
      "INFO:tensorflow:Done calling model_fn.\n",
      "INFO:tensorflow:Create CheckpointSaverHook.\n",
      "INFO:tensorflow:Graph was finalized.\n",
      "INFO:tensorflow:Running local_init_op.\n",
      "INFO:tensorflow:Done running local_init_op.\n",
      "INFO:tensorflow:Saving checkpoints for 0 into /Users/seungmoo/SM/Workspace/NLP/텐서플로와 머신러닝으로 시작하는 자연어 처리/study/data_out/checkpoint/cnn/model.ckpt.\n",
      "INFO:tensorflow:loss = 0.6909121, step = 1\n",
      "INFO:tensorflow:Saving checkpoints for 200 into /Users/seungmoo/SM/Workspace/NLP/텐서플로와 머신러닝으로 시작하는 자연어 처리/study/data_out/checkpoint/cnn/model.ckpt.\n",
      "INFO:tensorflow:Saving checkpoints for 400 into /Users/seungmoo/SM/Workspace/NLP/텐서플로와 머신러닝으로 시작하는 자연어 처리/study/data_out/checkpoint/cnn/model.ckpt.\n",
      "INFO:tensorflow:global_step/sec: 10.5527\n",
      "INFO:tensorflow:loss = 0.48846933, step = 401 (37.905 sec)\n",
      "INFO:tensorflow:Saving checkpoints for 600 into /Users/seungmoo/SM/Workspace/NLP/텐서플로와 머신러닝으로 시작하는 자연어 처리/study/data_out/checkpoint/cnn/model.ckpt.\n",
      "INFO:tensorflow:Saving checkpoints for 800 into /Users/seungmoo/SM/Workspace/NLP/텐서플로와 머신러닝으로 시작하는 자연어 처리/study/data_out/checkpoint/cnn/model.ckpt.\n",
      "INFO:tensorflow:global_step/sec: 11.9328\n",
      "INFO:tensorflow:loss = 0.44284284, step = 801 (33.522 sec)\n",
      "INFO:tensorflow:Saving checkpoints for 1000 into /Users/seungmoo/SM/Workspace/NLP/텐서플로와 머신러닝으로 시작하는 자연어 처리/study/data_out/checkpoint/cnn/model.ckpt.\n",
      "INFO:tensorflow:Saving checkpoints for 1200 into /Users/seungmoo/SM/Workspace/NLP/텐서플로와 머신러닝으로 시작하는 자연어 처리/study/data_out/checkpoint/cnn/model.ckpt.\n",
      "INFO:tensorflow:global_step/sec: 11.8634\n",
      "INFO:tensorflow:loss = 0.23710777, step = 1201 (33.716 sec)\n",
      "INFO:tensorflow:Saving checkpoints for 1400 into /Users/seungmoo/SM/Workspace/NLP/텐서플로와 머신러닝으로 시작하는 자연어 처리/study/data_out/checkpoint/cnn/model.ckpt.\n",
      "INFO:tensorflow:Saving checkpoints for 1600 into /Users/seungmoo/SM/Workspace/NLP/텐서플로와 머신러닝으로 시작하는 자연어 처리/study/data_out/checkpoint/cnn/model.ckpt.\n",
      "INFO:tensorflow:global_step/sec: 11.9078\n",
      "INFO:tensorflow:loss = 0.3032443, step = 1601 (33.591 sec)\n",
      "INFO:tensorflow:Saving checkpoints for 1800 into /Users/seungmoo/SM/Workspace/NLP/텐서플로와 머신러닝으로 시작하는 자연어 처리/study/data_out/checkpoint/cnn/model.ckpt.\n",
      "INFO:tensorflow:Saving checkpoints for 2000 into /Users/seungmoo/SM/Workspace/NLP/텐서플로와 머신러닝으로 시작하는 자연어 처리/study/data_out/checkpoint/cnn/model.ckpt.\n",
      "INFO:tensorflow:global_step/sec: 11.9433\n",
      "INFO:tensorflow:loss = 0.011170241, step = 2001 (33.491 sec)\n",
      "INFO:tensorflow:Saving checkpoints for 2200 into /Users/seungmoo/SM/Workspace/NLP/텐서플로와 머신러닝으로 시작하는 자연어 처리/study/data_out/checkpoint/cnn/model.ckpt.\n",
      "INFO:tensorflow:Saving checkpoints for 2400 into /Users/seungmoo/SM/Workspace/NLP/텐서플로와 머신러닝으로 시작하는 자연어 처리/study/data_out/checkpoint/cnn/model.ckpt.\n",
      "INFO:tensorflow:global_step/sec: 12.0044\n",
      "INFO:tensorflow:loss = 0.24824385, step = 2401 (33.321 sec)\n",
      "INFO:tensorflow:Saving checkpoints for 2600 into /Users/seungmoo/SM/Workspace/NLP/텐서플로와 머신러닝으로 시작하는 자연어 처리/study/data_out/checkpoint/cnn/model.ckpt.\n",
      "INFO:tensorflow:Saving checkpoints for 2800 into /Users/seungmoo/SM/Workspace/NLP/텐서플로와 머신러닝으로 시작하는 자연어 처리/study/data_out/checkpoint/cnn/model.ckpt.\n",
      "INFO:tensorflow:global_step/sec: 11.9145\n",
      "INFO:tensorflow:loss = 0.001999054, step = 2801 (33.574 sec)\n",
      "INFO:tensorflow:Saving checkpoints for 3000 into /Users/seungmoo/SM/Workspace/NLP/텐서플로와 머신러닝으로 시작하는 자연어 처리/study/data_out/checkpoint/cnn/model.ckpt.\n",
      "INFO:tensorflow:Saving checkpoints for 3200 into /Users/seungmoo/SM/Workspace/NLP/텐서플로와 머신러닝으로 시작하는 자연어 처리/study/data_out/checkpoint/cnn/model.ckpt.\n",
      "INFO:tensorflow:global_step/sec: 12.0249\n",
      "INFO:tensorflow:loss = 0.022390192, step = 3201 (33.263 sec)\n",
      "INFO:tensorflow:Saving checkpoints for 3400 into /Users/seungmoo/SM/Workspace/NLP/텐서플로와 머신러닝으로 시작하는 자연어 처리/study/data_out/checkpoint/cnn/model.ckpt.\n",
      "INFO:tensorflow:Saving checkpoints for 3600 into /Users/seungmoo/SM/Workspace/NLP/텐서플로와 머신러닝으로 시작하는 자연어 처리/study/data_out/checkpoint/cnn/model.ckpt.\n",
      "INFO:tensorflow:global_step/sec: 11.8026\n",
      "INFO:tensorflow:loss = 0.00013874519, step = 3601 (33.891 sec)\n",
      "INFO:tensorflow:Saving checkpoints for 3750 into /Users/seungmoo/SM/Workspace/NLP/텐서플로와 머신러닝으로 시작하는 자연어 처리/study/data_out/checkpoint/cnn/model.ckpt.\n",
      "INFO:tensorflow:Loss for final step: 0.009048396.\n",
      "INFO:tensorflow:Calling model_fn.\n",
      "INFO:tensorflow:Done calling model_fn.\n",
      "INFO:tensorflow:Starting evaluation at 2019-03-07-08:23:01\n",
      "INFO:tensorflow:Graph was finalized.\n",
      "INFO:tensorflow:Restoring parameters from /Users/seungmoo/SM/Workspace/NLP/텐서플로와 머신러닝으로 시작하는 자연어 처리/study/data_out/checkpoint/cnn/model.ckpt-3750\n",
      "INFO:tensorflow:Running local_init_op.\n",
      "INFO:tensorflow:Done running local_init_op.\n",
      "INFO:tensorflow:Finished evaluation at 2019-03-07-08:23:04\n",
      "INFO:tensorflow:Saving dict for global step 3750: acc = 0.866, global_step = 3750, loss = 0.56281734\n",
      "INFO:tensorflow:Saving 'checkpoint_path' summary for global step 3750: /Users/seungmoo/SM/Workspace/NLP/텐서플로와 머신러닝으로 시작하는 자연어 처리/study/data_out/checkpoint/cnn/model.ckpt-3750\n"
     ]
    },
    {
     "data": {
      "text/plain": [
       "{'acc': 0.866, 'loss': 0.56281734, 'global_step': 3750}"
      ]
     },
     "execution_count": 24,
     "metadata": {},
     "output_type": "execute_result"
    }
   ],
   "source": [
    "model_dir = os.path.join(os.getcwd(), \"data_out/checkpoint/cnn/\")\n",
    "os.makedirs(model_dir, exist_ok=True)\n",
    "\n",
    "config_tf = tf.estimator.RunConfig(save_checkpoints_steps=200, keep_checkpoint_max=2,\n",
    "                                    log_step_count_steps=400)\n",
    "\n",
    " #에스티메이터 객체 생성\n",
    "cnn_est = tf.estimator.Estimator(model_fn, model_dir=model_dir, config=config_tf)\n",
    "cnn_est.train(train_input_fn) #학습하기\n",
    "cnn_est.evaluate(eval_input_fn) #평가하기"
   ]
  },
  {
   "cell_type": "code",
   "execution_count": 27,
   "metadata": {},
   "outputs": [],
   "source": [
    "test_input_data = np.load(open(DATA_IN_PATH + TEST_INPUT_DATA, 'rb')) \n",
    "ids = np.load(open(DATA_IN_PATH + TEST_ID_DATA, 'rb'))\n",
    "\n"
   ]
  },
  {
   "cell_type": "code",
   "execution_count": 29,
   "metadata": {},
   "outputs": [],
   "source": [
    "predict_input_fn = tf.estimator.inputs.numpy_input_fn(x={\"x\":test_input_data}, shuffle=False)\n",
    "\n"
   ]
  },
  {
   "cell_type": "code",
   "execution_count": null,
   "metadata": {},
   "outputs": [],
   "source": [
    "predictions = np.array([p['prob'] for p in cnn_est.predict(input_fn=predict_input_fn)])"
   ]
  },
  {
   "cell_type": "code",
   "execution_count": 35,
   "metadata": {},
   "outputs": [
    {
     "data": {
      "text/plain": [
       "<generator object Estimator.predict at 0x14a2a66d0>"
      ]
     },
     "execution_count": 35,
     "metadata": {},
     "output_type": "execute_result"
    }
   ],
   "source": [
    "cnn_est.predict(input_fn=predict_input_fn)"
   ]
  },
  {
   "cell_type": "code",
   "execution_count": 43,
   "metadata": {},
   "outputs": [
    {
     "data": {
      "text/plain": [
       "{'x': <tf.Tensor 'fifo_queue_DequeueUpTo_6:1' shape=(?, 174) dtype=int32>}"
      ]
     },
     "execution_count": 43,
     "metadata": {},
     "output_type": "execute_result"
    }
   ],
   "source": [
    "predict_input_fn()"
   ]
  },
  {
   "cell_type": "code",
   "execution_count": null,
   "metadata": {},
   "outputs": [],
   "source": []
  }
 ],
 "metadata": {
  "kernelspec": {
   "display_name": "Python 3",
   "language": "python",
   "name": "python3"
  },
  "language_info": {
   "codemirror_mode": {
    "name": "ipython",
    "version": 3
   },
   "file_extension": ".py",
   "mimetype": "text/x-python",
   "name": "python",
   "nbconvert_exporter": "python",
   "pygments_lexer": "ipython3",
   "version": "3.6.0"
  }
 },
 "nbformat": 4,
 "nbformat_minor": 2
}
